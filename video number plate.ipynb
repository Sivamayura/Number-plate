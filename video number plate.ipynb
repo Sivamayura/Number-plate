{
 "cells": [
  {
   "cell_type": "code",
   "execution_count": 1,
   "id": "dc07dd19",
   "metadata": {},
   "outputs": [
    {
     "name": "stdout",
     "output_type": "stream",
     "text": [
      "Collecting package metadata (current_repodata.json): done\n",
      "Solving environment: done\n",
      "\n",
      "\n",
      "==> WARNING: A newer version of conda exists. <==\n",
      "  current version: 4.14.0\n",
      "  latest version: 24.5.0\n",
      "\n",
      "Please update conda by running\n",
      "\n",
      "    $ conda update -n base -c defaults conda\n",
      "\n",
      "\n",
      "\n",
      "## Package Plan ##\n",
      "\n",
      "  environment location: /opt/anaconda3/envs/python=3.7\n",
      "\n",
      "\n",
      "\n",
      "Preparing transaction: done\n",
      "Verifying transaction: done\n",
      "Executing transaction: done\n",
      "#\n",
      "# To activate this environment, use\n",
      "#\n",
      "#     $ conda activate python=3.7\n",
      "#\n",
      "# To deactivate an active environment, use\n",
      "#\n",
      "#     $ conda deactivate\n",
      "\n",
      "Retrieving notices: ...working... done\n",
      "\n",
      "Note: you may need to restart the kernel to use updated packages.\n"
     ]
    }
   ],
   "source": [
    "conda create -n python=3.7 -y"
   ]
  },
  {
   "cell_type": "code",
   "execution_count": 2,
   "id": "de7c3244",
   "metadata": {},
   "outputs": [
    {
     "name": "stdout",
     "output_type": "stream",
     "text": [
      "Requirement already satisfied: opencv-python in /opt/anaconda3/lib/python3.9/site-packages (4.9.0.80)\n",
      "Requirement already satisfied: numpy>=1.17.0 in /opt/anaconda3/lib/python3.9/site-packages (from opencv-python) (1.21.5)\n",
      "Note: you may need to restart the kernel to use updated packages.\n"
     ]
    }
   ],
   "source": [
    "pip install opencv-python"
   ]
  },
  {
   "cell_type": "code",
   "execution_count": 3,
   "id": "81908bfe",
   "metadata": {},
   "outputs": [],
   "source": [
    "import cv2"
   ]
  },
  {
   "cell_type": "code",
   "execution_count": 4,
   "id": "b092d85f",
   "metadata": {},
   "outputs": [],
   "source": [
    "harcascade = \"haarcascade_russian_plate_number.xml\""
   ]
  },
  {
   "cell_type": "code",
   "execution_count": 5,
   "id": "3616cbc6",
   "metadata": {},
   "outputs": [],
   "source": [
    "cam= cv2.VideoCapture(0)"
   ]
  },
  {
   "cell_type": "code",
   "execution_count": 6,
   "id": "a5ae9b90",
   "metadata": {},
   "outputs": [
    {
     "data": {
      "text/plain": [
       "True"
      ]
     },
     "execution_count": 6,
     "metadata": {},
     "output_type": "execute_result"
    }
   ],
   "source": [
    "cam.set(3,640) #width\n",
    "cam.set(4,480) #height"
   ]
  },
  {
   "cell_type": "code",
   "execution_count": 7,
   "id": "270ced0c",
   "metadata": {},
   "outputs": [],
   "source": [
    "min_area= 500"
   ]
  },
  {
   "cell_type": "code",
   "execution_count": 8,
   "id": "b17abee5",
   "metadata": {},
   "outputs": [],
   "source": [
    "import cv2\n",
    "\n",
    "# Initialize the camera\n",
    "cam = cv2.VideoCapture(0)\n",
    "\n",
    "# Load the Haar cascade file for number plate detection\n",
    "harcascade = 'haarcascade_russian_plate_number.xml'\n",
    "plate_cascade = cv2.CascadeClassifier(harcascade)\n",
    "\n",
    "# Minimum area for the number plate to be considered\n",
    "min_area = 500\n",
    "count=0\n",
    "\n",
    "while True:\n",
    "    success, img = cam.read()\n",
    "    \n",
    "    if not success:\n",
    "        print(\"Failed to capture image\")\n",
    "        break\n",
    "    \n",
    "    img_gray = cv2.cvtColor(img, cv2.COLOR_BGR2GRAY)\n",
    "    \n",
    "    plates = plate_cascade.detectMultiScale(img_gray, 1.1, 4)\n",
    "    \n",
    "    for (x, y, w, h) in plates:\n",
    "        area = w * h\n",
    "        \n",
    "        if area > min_area:\n",
    "            cv2.rectangle(img, (x, y), (x + w, y + h), (0, 255, 0), 2)\n",
    "            cv2.putText(img, \"Number Plate\", (x, y - 5), cv2.FONT_HERSHEY_COMPLEX_SMALL, 1, (255, 0, 255), 2)\n",
    "            \n",
    "            img_roi = img[y: y+h, x:x+w ]\n",
    "            cv2.imshow(\"ROI\", img_roi)\n",
    "            \n",
    "    cv2.imshow(\"Result\", img)\n",
    "    \n",
    "    if cv2.waitKey(1) & 0xFF == ord('s'):\n",
    "        cv2.imwrite(\"scanned_image\" + str(count) + \".jpg\" , img_roi)\n",
    "        cv2.rectangle(img,(0,200),(640,300),(0,255,0), cv2.FILLED)\n",
    "        cv2.putText(img,\"''plate saved\",(150,265), cv2.FONT_HERSHEY_COMPLEX_SMALL, 2, (0,0,255),2)\n",
    "        cv2.imshow(\"Results\", img)\n",
    "        cv2.waitKey(500)\n",
    "        count += 1\n",
    "        \n",
    "    if cv2.waitKey(1) & 0xFF == ord('q'):\n",
    "        break\n",
    "\n",
    "# Release the camera and close windows\n",
    "cam.release()\n",
    "cv2.destroyAllWindows()\n"
   ]
  },
  {
   "cell_type": "code",
   "execution_count": 2,
   "id": "3132c25d",
   "metadata": {},
   "outputs": [
    {
     "name": "stdout",
     "output_type": "stream",
     "text": [
      "Requirement already satisfied: torch in /opt/anaconda3/lib/python3.9/site-packages (2.2.2)\n",
      "Requirement already satisfied: torchvision in /opt/anaconda3/lib/python3.9/site-packages (0.17.2)\n",
      "Requirement already satisfied: torchaudio in /opt/anaconda3/lib/python3.9/site-packages (2.2.2)\n",
      "Requirement already satisfied: networkx in /opt/anaconda3/lib/python3.9/site-packages (from torch) (2.7.1)\n",
      "Requirement already satisfied: sympy in /opt/anaconda3/lib/python3.9/site-packages (from torch) (1.10.1)\n",
      "Requirement already satisfied: typing-extensions>=4.8.0 in /opt/anaconda3/lib/python3.9/site-packages (from torch) (4.11.0)\n",
      "Requirement already satisfied: fsspec in /opt/anaconda3/lib/python3.9/site-packages (from torch) (2022.2.0)\n",
      "Requirement already satisfied: jinja2 in /opt/anaconda3/lib/python3.9/site-packages (from torch) (2.11.3)\n",
      "Requirement already satisfied: filelock in /opt/anaconda3/lib/python3.9/site-packages (from torch) (3.6.0)\n",
      "Requirement already satisfied: numpy in /opt/anaconda3/lib/python3.9/site-packages (from torchvision) (1.21.5)\n",
      "Requirement already satisfied: pillow!=8.3.*,>=5.3.0 in /opt/anaconda3/lib/python3.9/site-packages (from torchvision) (10.3.0)\n",
      "Requirement already satisfied: MarkupSafe>=0.23 in /opt/anaconda3/lib/python3.9/site-packages (from jinja2->torch) (2.0.1)\n",
      "Requirement already satisfied: mpmath>=0.19 in /opt/anaconda3/lib/python3.9/site-packages (from sympy->torch) (1.2.1)\n",
      "zsh:1: command not found: torch\n"
     ]
    }
   ],
   "source": [
    "!pip install torch torchvision torchaudio\n",
    "!torch install easyocr"
   ]
  },
  {
   "cell_type": "code",
   "execution_count": 3,
   "id": "0e778c6f",
   "metadata": {},
   "outputs": [],
   "source": [
    "import easyocr"
   ]
  },
  {
   "cell_type": "code",
   "execution_count": 4,
   "id": "8bf83c5c",
   "metadata": {},
   "outputs": [
    {
     "name": "stdout",
     "output_type": "stream",
     "text": [
      "Detected Number Plate for scanned_image0.jpg: EOP 807\n"
     ]
    },
    {
     "name": "stderr",
     "output_type": "stream",
     "text": [
      "/var/folders/fn/19zq0tb12mqgpms7qyf_wq_c0000gn/T/ipykernel_4452/3571120062.py:29: FutureWarning: The frame.append method is deprecated and will be removed from pandas in a future version. Use pandas.concat instead.\n",
      "  results = results.append({\"Image\": file, \"Number Plate\": plate_number}, ignore_index=True)\n"
     ]
    }
   ],
   "source": [
    "import cv2\n",
    "import pandas as pd\n",
    "import os\n",
    "\n",
    "# Initialize EasyOCR reader\n",
    "reader = easyocr.Reader(['en'])\n",
    "\n",
    "# DataFrame to store the results\n",
    "results = pd.DataFrame(columns=[\"Image\", \"Number Plate\"])\n",
    "\n",
    "# Directory where images are saved\n",
    "image_directory = './'  # Change this to your directory where images are saved\n",
    "\n",
    "# Iterate over saved images\n",
    "for file in os.listdir(image_directory):\n",
    "    if file.startswith('scanned_image') and file.endswith('.jpg'):\n",
    "        # Load the image\n",
    "        img_path = os.path.join(image_directory, file)\n",
    "        img = cv2.imread(img_path)\n",
    "        \n",
    "        # Perform OCR on the image\n",
    "        result = reader.readtext(img)\n",
    "        plate_number = \"\"\n",
    "        if result:\n",
    "            plate_number = result[0][-2]\n",
    "            print(f\"Detected Number Plate for {file}: {plate_number}\")\n",
    "            \n",
    "            # Save the detected plate number and image filename to the DataFrame\n",
    "            results = results.append({\"Image\": file, \"Number Plate\": plate_number}, ignore_index=True)\n",
    "\n",
    "# Save the results to an Excel file\n",
    "results.to_excel(\"number_plate_results.xlsx\", index=False)\n"
   ]
  },
  {
   "cell_type": "code",
   "execution_count": null,
   "id": "35fa6411",
   "metadata": {},
   "outputs": [],
   "source": []
  }
 ],
 "metadata": {
  "kernelspec": {
   "display_name": "Python 3 (ipykernel)",
   "language": "python",
   "name": "python3"
  },
  "language_info": {
   "codemirror_mode": {
    "name": "ipython",
    "version": 3
   },
   "file_extension": ".py",
   "mimetype": "text/x-python",
   "name": "python",
   "nbconvert_exporter": "python",
   "pygments_lexer": "ipython3",
   "version": "3.9.12"
  }
 },
 "nbformat": 4,
 "nbformat_minor": 5
}
